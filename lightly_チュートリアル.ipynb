{
  "nbformat": 4,
  "nbformat_minor": 5,
  "metadata": {
    "kernelspec": {
      "display_name": "Python 3 (ipykernel)",
      "language": "python",
      "name": "python3"
    },
    "language_info": {
      "codemirror_mode": {
        "name": "ipython",
        "version": 3
      },
      "file_extension": ".py",
      "mimetype": "text/x-python",
      "name": "python",
      "nbconvert_exporter": "python",
      "pygments_lexer": "ipython3",
      "version": "3.9.2"
    },
    "colab": {
      "name": "lightly チュートリアル.ipynb",
      "provenance": [],
      "include_colab_link": true
    },
    "accelerator": "GPU"
  },
  "cells": [
    {
      "cell_type": "markdown",
      "metadata": {
        "id": "view-in-github",
        "colab_type": "text"
      },
      "source": [
        "<a href=\"https://colab.research.google.com/github/ytatemichi/first-git/blob/master/lightly_%E3%83%81%E3%83%A5%E3%83%BC%E3%83%88%E3%83%AA%E3%82%A2%E3%83%AB.ipynb\" target=\"_parent\"><img src=\"https://colab.research.google.com/assets/colab-badge.svg\" alt=\"Open In Colab\"/></a>"
      ]
    },
    {
      "cell_type": "code",
      "metadata": {
        "id": "b6de83b9"
      },
      "source": [
        "import os\n",
        "import pandas as pd\n",
        "import numpy as np\n",
        "from glob import glob\n",
        "import matplotlib.pyplot as plt\n",
        "import seaborn as sns\n",
        "import sys"
      ],
      "id": "b6de83b9",
      "execution_count": 8,
      "outputs": []
    },
    {
      "cell_type": "code",
      "metadata": {
        "colab": {
          "base_uri": "https://localhost:8080/"
        },
        "id": "ONRQop1OhSrH",
        "outputId": "b73956bc-73b4-41a3-d371-5efee8694675"
      },
      "source": [
        "from google.colab import drive\n",
        "drive.mount('/content/drive')"
      ],
      "id": "ONRQop1OhSrH",
      "execution_count": 3,
      "outputs": [
        {
          "output_type": "stream",
          "text": [
            "Mounted at /content/drive\n"
          ],
          "name": "stdout"
        }
      ]
    },
    {
      "cell_type": "code",
      "metadata": {
        "colab": {
          "base_uri": "https://localhost:8080/"
        },
        "id": "YejDSXKFizQH",
        "outputId": "9f15bfca-ef39-4d82-fb14-10dfa239f6e8"
      },
      "source": [
        "print(sys.path)"
      ],
      "id": "YejDSXKFizQH",
      "execution_count": 9,
      "outputs": [
        {
          "output_type": "stream",
          "text": [
            "['', '/content', '/env/python', '/usr/lib/python37.zip', '/usr/lib/python3.7', '/usr/lib/python3.7/lib-dynload', '/usr/local/lib/python3.7/dist-packages', '/usr/lib/python3/dist-packages', '/usr/local/lib/python3.7/dist-packages/IPython/extensions', '/root/.ipython']\n"
          ],
          "name": "stdout"
        }
      ]
    },
    {
      "cell_type": "code",
      "metadata": {
        "id": "xKFkVGo4hStx"
      },
      "source": [
        "material_df = pd.read_csv('/content/drive/MyDrive/atmacup/materials.csv')\n",
        "technique_df = pd.read_csv('/content/drive/MyDrive/atmacup/techniques.csv')\n",
        "train_df = pd.read_csv('/content/drive/MyDrive/atmacup/train.csv')\n",
        "test_df = pd.read_csv('/content/drive/MyDrive/atmacup/test.csv')"
      ],
      "id": "xKFkVGo4hStx",
      "execution_count": 14,
      "outputs": []
    },
    {
      "cell_type": "code",
      "metadata": {
        "colab": {
          "base_uri": "https://localhost:8080/"
        },
        "id": "tBYiLUuVkiDd",
        "outputId": "58b95414-11f0-43c9-ff66-d07a2fc7fdd7"
      },
      "source": [
        "! git clone https://github.com/ytatemichi/techinique_improve.git"
      ],
      "id": "tBYiLUuVkiDd",
      "execution_count": 20,
      "outputs": [
        {
          "output_type": "stream",
          "text": [
            "Cloning into 'techinique_improve'...\n",
            "fatal: could not read Username for 'https://github.com': No such device or address\n"
          ],
          "name": "stdout"
        }
      ]
    },
    {
      "cell_type": "code",
      "metadata": {
        "id": "CjdGsd6ykiHq"
      },
      "source": [
        ""
      ],
      "id": "CjdGsd6ykiHq",
      "execution_count": null,
      "outputs": []
    },
    {
      "cell_type": "code",
      "metadata": {
        "id": "17df63f5"
      },
      "source": [
        "num_workers = 8\n",
        "batch_size = 512\n",
        "memory_bank_size = 4096\n",
        "seed = 1\n",
        "max_epochs = 100"
      ],
      "id": "17df63f5",
      "execution_count": null,
      "outputs": []
    },
    {
      "cell_type": "code",
      "metadata": {
        "id": "5Tr3BKJ2zUqt"
      },
      "source": [
        ""
      ],
      "id": "5Tr3BKJ2zUqt",
      "execution_count": null,
      "outputs": []
    }
  ]
}